{
 "cells": [
  {
   "cell_type": "code",
   "execution_count": 1,
   "metadata": {},
   "outputs": [
    {
     "name": "stdout",
     "output_type": "stream",
     "text": [
      "\n",
      "📁 遍歷過的 Markdown 檔案：\n",
      " - /Users/iw/Documents/NTU/1132/1132_German_Legal/課堂筆記/03_判決解析/Rn_90.md\n",
      " - /Users/iw/Documents/NTU/1132/1132_German_Legal/課堂筆記/03_判決解析/裁判結構.md\n",
      " - /Users/iw/Documents/NTU/1132/1132_German_Legal/課堂筆記/03_判決解析/00_part_title.md\n",
      " - /Users/iw/Documents/NTU/1132/1132_German_Legal/課堂筆記/03_判決解析/Source_Full.md\n",
      " - /Users/iw/Documents/NTU/1132/1132_German_Legal/課堂筆記/03_判決解析/Source.md\n",
      " - /Users/iw/Documents/NTU/1132/1132_German_Legal/課堂筆記/03_判決解析/縮寫.md\n",
      " - /Users/iw/Documents/NTU/1132/1132_German_Legal/課堂筆記/03_判決解析/裁判核心語句.md\n",
      " - /Users/iw/Documents/NTU/1132/1132_German_Legal/課堂筆記/03_判決解析/Rn_89.md\n",
      " - /Users/iw/Documents/NTU/1132/1132_German_Legal/課堂筆記/03_判決解析/Rn_88.md\n",
      " - /Users/iw/Documents/NTU/1132/1132_German_Legal/課堂筆記/03_判決解析/謂語短語搭配彙整.md\n",
      " - /Users/iw/Documents/NTU/1132/1132_German_Legal/課堂筆記/01_Staatsrecht選讀/Rn_344.md\n",
      " - /Users/iw/Documents/NTU/1132/1132_German_Legal/課堂筆記/01_Staatsrecht選讀/Rn_350.md\n",
      " - /Users/iw/Documents/NTU/1132/1132_German_Legal/課堂筆記/01_Staatsrecht選讀/Rn_340.md\n",
      " - /Users/iw/Documents/NTU/1132/1132_German_Legal/課堂筆記/01_Staatsrecht選讀/Rn_341.md\n",
      " - /Users/iw/Documents/NTU/1132/1132_German_Legal/課堂筆記/01_Staatsrecht選讀/Rn_345.md\n",
      " - /Users/iw/Documents/NTU/1132/1132_German_Legal/課堂筆記/01_Staatsrecht選讀/Rn_348.md\n",
      " - /Users/iw/Documents/NTU/1132/1132_German_Legal/課堂筆記/01_Staatsrecht選讀/Rn_339.md\n",
      " - /Users/iw/Documents/NTU/1132/1132_German_Legal/課堂筆記/01_Staatsrecht選讀/Rn_338.md\n",
      " - /Users/iw/Documents/NTU/1132/1132_German_Legal/課堂筆記/01_Staatsrecht選讀/Rn_349.md\n",
      " - /Users/iw/Documents/NTU/1132/1132_German_Legal/課堂筆記/01_Staatsrecht選讀/Rn_342.md\n",
      " - /Users/iw/Documents/NTU/1132/1132_German_Legal/課堂筆記/01_Staatsrecht選讀/Rn_346.md\n",
      " - /Users/iw/Documents/NTU/1132/1132_German_Legal/課堂筆記/01_Staatsrecht選讀/Rn_347.md\n",
      " - /Users/iw/Documents/NTU/1132/1132_German_Legal/課堂筆記/01_Staatsrecht選讀/Rn_343.md\n",
      " - /Users/iw/Documents/NTU/1132/1132_German_Legal/課堂筆記/00_Weekly/W01_0218.md\n",
      " - /Users/iw/Documents/NTU/1132/1132_German_Legal/課堂筆記/00_Weekly/W06_0325.md\n",
      " - /Users/iw/Documents/NTU/1132/1132_German_Legal/課堂筆記/00_Weekly/W05_0318.md\n",
      " - /Users/iw/Documents/NTU/1132/1132_German_Legal/課堂筆記/A_附錄/法學縮寫.md\n",
      " - /Users/iw/Documents/NTU/1132/1132_German_Legal/課堂筆記/A_附錄/憲法和基本法.md\n",
      " - /Users/iw/Documents/NTU/1132/1132_German_Legal/課堂筆記/A_附錄/德語法律詞彙.md\n",
      " - /Users/iw/Documents/NTU/1132/1132_German_Legal/課堂筆記/A_附錄/文獻中引註格式.md\n",
      " - /Users/iw/Documents/NTU/1132/1132_German_Legal/課堂筆記/A_附錄/01_條項款.md\n",
      " - /Users/iw/Documents/NTU/1132/1132_German_Legal/課堂筆記/10_GG/GG.md\n",
      "\n",
      "✅ 有修改內容的檔案：\n",
      " * /Users/iw/Documents/NTU/1132/1132_German_Legal/課堂筆記/03_判決解析/縮寫.md\n",
      " * /Users/iw/Documents/NTU/1132/1132_German_Legal/課堂筆記/A_附錄/法學縮寫.md\n",
      " * /Users/iw/Documents/NTU/1132/1132_German_Legal/課堂筆記/A_附錄/德語法律詞彙.md\n"
     ]
    }
   ],
   "source": [
    "import os\n",
    "import re\n",
    "\n",
    "def clean_emoji_in_headings(folder_path):\n",
    "    # Markdown 標題開頭 + emoji（Unicode）+ 空格\n",
    "    pattern = re.compile(r'^(#{1,6})\\s*([\\U0001F300-\\U0001FAFF])\\s+(.*)$', re.MULTILINE)\n",
    "\n",
    "    all_files = []\n",
    "    modified_files = []\n",
    "\n",
    "    for root, dirs, files in os.walk(folder_path):\n",
    "        for file in files:\n",
    "            if file.endswith('.md'):\n",
    "                file_path = os.path.join(root, file)\n",
    "                all_files.append(file_path)\n",
    "\n",
    "                with open(file_path, 'r', encoding='utf-8') as f:\n",
    "                    content = f.read()\n",
    "\n",
    "                # 替換為「## 標題」格式，刪除 emoji 和後方空格\n",
    "                new_content = pattern.sub(lambda m: f\"{m.group(1)} {m.group(3).strip()}\", content)\n",
    "\n",
    "                if new_content != content:\n",
    "                    modified_files.append(file_path)\n",
    "                    with open(file_path, 'w', encoding='utf-8') as f:\n",
    "                        f.write(new_content)\n",
    "\n",
    "    # 印出所有處理過的檔案\n",
    "    print(\"\\n📁 遍歷過的 Markdown 檔案：\")\n",
    "    for f in all_files:\n",
    "        print(\" -\", f)\n",
    "\n",
    "    # 印出有修改的檔案\n",
    "    print(\"\\n✅ 有修改內容的檔案：\")\n",
    "    if modified_files:\n",
    "        for f in modified_files:\n",
    "            print(\" *\", f)\n",
    "    else:\n",
    "        print(\"（沒有任何檔案被修改）\")\n",
    "\n",
    "# ✅ 請將路徑改為你自己的 Markdown 資料夾\n",
    "clean_emoji_in_headings('/Users/iw/Documents/NTU/1132/1132_German_Legal/課堂筆記')"
   ]
  },
  {
   "cell_type": "markdown",
   "metadata": {},
   "source": []
  }
 ],
 "metadata": {
  "kernelspec": {
   "display_name": ".venv",
   "language": "python",
   "name": "python3"
  },
  "language_info": {
   "codemirror_mode": {
    "name": "ipython",
    "version": 3
   },
   "file_extension": ".py",
   "mimetype": "text/x-python",
   "name": "python",
   "nbconvert_exporter": "python",
   "pygments_lexer": "ipython3",
   "version": "3.12.4"
  }
 },
 "nbformat": 4,
 "nbformat_minor": 2
}
