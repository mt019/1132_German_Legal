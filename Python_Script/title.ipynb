{
 "cells": [
  {
   "cell_type": "code",
   "execution_count": 1,
   "metadata": {},
   "outputs": [
    {
     "name": "stdout",
     "output_type": "stream",
     "text": [
      "✔ 已處理：/Users/iw/Documents/NTU/1132/1132_German_Legal/課堂筆記/03_判決解析/Rn_90.md\n",
      "✔ 已處理：/Users/iw/Documents/NTU/1132/1132_German_Legal/課堂筆記/01_Staatsrecht選讀/Rn_344.md\n",
      "✔ 已處理：/Users/iw/Documents/NTU/1132/1132_German_Legal/課堂筆記/01_Staatsrecht選讀/Rn_350.md\n",
      "✔ 已處理：/Users/iw/Documents/NTU/1132/1132_German_Legal/課堂筆記/01_Staatsrecht選讀/Rn_340.md\n",
      "✔ 已處理：/Users/iw/Documents/NTU/1132/1132_German_Legal/課堂筆記/01_Staatsrecht選讀/Rn_341.md\n",
      "✔ 已處理：/Users/iw/Documents/NTU/1132/1132_German_Legal/課堂筆記/01_Staatsrecht選讀/Rn_345.md\n",
      "✔ 已處理：/Users/iw/Documents/NTU/1132/1132_German_Legal/課堂筆記/01_Staatsrecht選讀/Rn_348.md\n",
      "✔ 已處理：/Users/iw/Documents/NTU/1132/1132_German_Legal/課堂筆記/01_Staatsrecht選讀/Rn_339.md\n",
      "✔ 已處理：/Users/iw/Documents/NTU/1132/1132_German_Legal/課堂筆記/01_Staatsrecht選讀/Rn_338.md\n",
      "✔ 已處理：/Users/iw/Documents/NTU/1132/1132_German_Legal/課堂筆記/01_Staatsrecht選讀/Rn_349.md\n",
      "✔ 已處理：/Users/iw/Documents/NTU/1132/1132_German_Legal/課堂筆記/01_Staatsrecht選讀/Rn_342.md\n",
      "✔ 已處理：/Users/iw/Documents/NTU/1132/1132_German_Legal/課堂筆記/01_Staatsrecht選讀/Rn_346.md\n",
      "✔ 已處理：/Users/iw/Documents/NTU/1132/1132_German_Legal/課堂筆記/01_Staatsrecht選讀/Rn_343.md\n",
      "✔ 已處理：/Users/iw/Documents/NTU/1132/1132_German_Legal/課堂筆記/00_Weekly/W05_0318.md\n"
     ]
    }
   ],
   "source": [
    "import os\n",
    "\n",
    "def process_markdown_file(file_path):\n",
    "    with open(file_path, 'r', encoding='utf-8') as f:\n",
    "        lines = f.readlines()\n",
    "\n",
    "    modified = False\n",
    "    new_lines = []\n",
    "    for line in lines:\n",
    "        stripped = line.strip()\n",
    "        if stripped in [\"### **原文**\", \"### **翻譯**\"]:\n",
    "            # 移除標題符號，加入換行\n",
    "            content = stripped.replace(\"### \", \"\")\n",
    "            new_lines.append(f\"\\n{content}\\n\\n\")  # 雙換行，保持段落\n",
    "            modified = True\n",
    "        else:\n",
    "            new_lines.append(line)\n",
    "\n",
    "    if modified:\n",
    "        with open(file_path, 'w', encoding='utf-8') as f:\n",
    "            f.writelines(new_lines)\n",
    "        print(f\"✔ 已處理：{file_path}\")\n",
    "\n",
    "def process_folder(root_folder):\n",
    "    for foldername, subfolders, filenames in os.walk(root_folder):\n",
    "        for filename in filenames:\n",
    "            if filename.endswith(\".md\"):\n",
    "                file_path = os.path.join(foldername, filename)\n",
    "                process_markdown_file(file_path)\n",
    "\n",
    "# ✅ 使用方式：將此設為主資料夾路徑\n",
    "if __name__ == \"__main__\":\n",
    "    root = \"/Users/iw/Documents/NTU/1132/1132_German_Legal/\"  # ← 修改成你的主資料夾絕對或相對路徑\n",
    "    process_folder(root)"
   ]
  }
 ],
 "metadata": {
  "kernelspec": {
   "display_name": ".venv",
   "language": "python",
   "name": "python3"
  },
  "language_info": {
   "codemirror_mode": {
    "name": "ipython",
    "version": 3
   },
   "file_extension": ".py",
   "mimetype": "text/x-python",
   "name": "python",
   "nbconvert_exporter": "python",
   "pygments_lexer": "ipython3",
   "version": "3.12.4"
  }
 },
 "nbformat": 4,
 "nbformat_minor": 2
}
