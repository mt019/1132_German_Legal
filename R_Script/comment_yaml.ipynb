{
 "cells": [
  {
   "cell_type": "code",
   "execution_count": 6,
   "metadata": {
    "vscode": {
     "languageId": "r"
    }
   },
   "outputs": [
    {
     "data": {
      "text/html": [
       "'zh_TW.UTF-8'"
      ],
      "text/latex": [
       "'zh\\_TW.UTF-8'"
      ],
      "text/markdown": [
       "'zh_TW.UTF-8'"
      ],
      "text/plain": [
       "[1] \"zh_TW.UTF-8\""
      ]
     },
     "metadata": {},
     "output_type": "display_data"
    }
   ],
   "source": [
    "Sys.setlocale(\"LC_CTYPE\", \"zh_TW.UTF-8\")"
   ]
  },
  {
   "cell_type": "code",
   "execution_count": 7,
   "metadata": {
    "vscode": {
     "languageId": "r"
    }
   },
   "outputs": [
    {
     "name": "stdout",
     "output_type": "stream",
     "text": [
      "📄 找到以下 .md / .Rmd 檔案：\n",
      "\n",
      " [1] \"./index.rmd\"                            \n",
      " [2] \"./課堂筆記/00_Weekly/W01_0218.md\"       \n",
      " [3] \"./課堂筆記/00_Weekly/W05_0318.md\"       \n",
      " [4] \"./課堂筆記/01_Staatsrecht選讀/Rn_338.md\"\n",
      " [5] \"./課堂筆記/01_Staatsrecht選讀/Rn_339.md\"\n",
      " [6] \"./課堂筆記/01_Staatsrecht選讀/Rn_340.md\"\n",
      " [7] \"./課堂筆記/01_Staatsrecht選讀/Rn_341.md\"\n",
      " [8] \"./課堂筆記/01_Staatsrecht選讀/Rn_342.md\"\n",
      " [9] \"./課堂筆記/01_Staatsrecht選讀/Rn_343.md\"\n",
      "[10] \"./課堂筆記/01_Staatsrecht選讀/Rn_344.md\"\n",
      "[11] \"./課堂筆記/01_Staatsrecht選讀/Rn_345.md\"\n",
      "[12] \"./課堂筆記/01_Staatsrecht選讀/Rn_346.md\"\n",
      "[13] \"./課堂筆記/01_Staatsrecht選讀/Rn_347.md\"\n",
      "[14] \"./課堂筆記/01_Staatsrecht選讀/Rn_348.md\"\n",
      "[15] \"./課堂筆記/01_Staatsrecht選讀/Rn_349.md\"\n",
      "[16] \"./課堂筆記/01_Staatsrecht選讀/Rn_350.md\"\n",
      "[17] \"./課堂筆記/02_GG/GG.md\"                 \n",
      "[18] \"./課堂筆記/03_附錄/01_條項款.md\"        \n",
      "[19] \"./課堂筆記/03_附錄/憲法和基本法.md\"     \n",
      "[20] \"./課堂筆記/03_附錄/文獻中引註格式.md\"   \n",
      "\n",
      "✅ 總共找到  20  個檔案。\n"
     ]
    }
   ],
   "source": [
    "# === list_all_md_rmd.R ===\n",
    "setwd(\"/Users/iw/Documents/NTU/1132/1132_German_Legal\")\n",
    "files <- list.files(path = \".\", pattern = \"(?i)\\\\.R?md$\", recursive = TRUE, full.names = TRUE)\n",
    "\n",
    "cat(\"📄 找到以下 .md / .Rmd 檔案：\\n\\n\")\n",
    "print(files)\n",
    "cat(\"\\n✅ 總共找到 \", length(files), \" 個檔案。\\n\")"
   ]
  },
  {
   "cell_type": "code",
   "execution_count": 8,
   "metadata": {
    "vscode": {
     "languageId": "r"
    }
   },
   "outputs": [
    {
     "name": "stderr",
     "output_type": "stream",
     "text": [
      "💬 Commenting out YAML in: ./課堂筆記/01_Staatsrecht選讀/Rn_338.md\n",
      "\n",
      "💬 Commenting out YAML in: ./課堂筆記/01_Staatsrecht選讀/Rn_339.md\n",
      "\n",
      "💬 Commenting out YAML in: ./課堂筆記/01_Staatsrecht選讀/Rn_340.md\n",
      "\n",
      "💬 Commenting out YAML in: ./課堂筆記/01_Staatsrecht選讀/Rn_341.md\n",
      "\n",
      "💬 Commenting out YAML in: ./課堂筆記/01_Staatsrecht選讀/Rn_342.md\n",
      "\n",
      "💬 Commenting out YAML in: ./課堂筆記/01_Staatsrecht選讀/Rn_343.md\n",
      "\n",
      "💬 Commenting out YAML in: ./課堂筆記/01_Staatsrecht選讀/Rn_344.md\n",
      "\n",
      "💬 Commenting out YAML in: ./課堂筆記/01_Staatsrecht選讀/Rn_345.md\n",
      "\n",
      "💬 Commenting out YAML in: ./課堂筆記/01_Staatsrecht選讀/Rn_346.md\n",
      "\n",
      "💬 Commenting out YAML in: ./課堂筆記/01_Staatsrecht選讀/Rn_347.md\n",
      "\n",
      "💬 Commenting out YAML in: ./課堂筆記/01_Staatsrecht選讀/Rn_348.md\n",
      "\n",
      "💬 Commenting out YAML in: ./課堂筆記/01_Staatsrecht選讀/Rn_349.md\n",
      "\n"
     ]
    }
   ],
   "source": [
    "# === comment_yaml_except_index.R ===\n",
    "comment_yaml <- function(file) {\n",
    "  if (basename(file) == \"index.Rmd\") return(invisible())\n",
    "\n",
    "  lines <- readLines(file, warn = FALSE)\n",
    "  if (length(lines) < 3 || lines[1] != \"---\") return()\n",
    "\n",
    "  end <- which(lines[-1] == \"---\")[1] + 1\n",
    "  if (!is.na(end)) {\n",
    "    message(\"💬 Commenting out YAML in: \", file)\n",
    "    # Wrap YAML in <!-- ... -->\n",
    "    commented <- c(\"<!--\", lines[1:end], \"-->\", lines[(end + 1):length(lines)])\n",
    "    writeLines(commented, file)\n",
    "  }\n",
    "}\n",
    "\n",
    "# Find all .md and .Rmd files recursively\n",
    "files <- list.files(path = \".\", pattern = \"\\\\.R?md$\", recursive = TRUE, full.names = TRUE)\n",
    "\n",
    "# Apply to all files except index.Rmd\n",
    "invisible(lapply(files, comment_yaml))"
   ]
  }
 ],
 "metadata": {
  "kernelspec": {
   "display_name": "R",
   "language": "R",
   "name": "ir"
  },
  "language_info": {
   "codemirror_mode": "r",
   "file_extension": ".r",
   "mimetype": "text/x-r-source",
   "name": "R",
   "pygments_lexer": "r",
   "version": "4.4.3"
  }
 },
 "nbformat": 4,
 "nbformat_minor": 2
}
