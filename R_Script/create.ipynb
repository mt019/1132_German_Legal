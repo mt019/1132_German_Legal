{
 "cells": [
  {
   "cell_type": "code",
   "execution_count": 2,
   "metadata": {
    "vscode": {
     "languageId": "r"
    }
   },
   "outputs": [
    {
     "data": {
      "text/html": [
       "'zh_TW.UTF-8'"
      ],
      "text/latex": [
       "'zh\\_TW.UTF-8'"
      ],
      "text/markdown": [
       "'zh_TW.UTF-8'"
      ],
      "text/plain": [
       "[1] \"zh_TW.UTF-8\""
      ]
     },
     "metadata": {},
     "output_type": "display_data"
    }
   ],
   "source": [
    "# === setup_bookdown.R ===\n",
    "Sys.setlocale(\"LC_CTYPE\", \"zh_TW.UTF-8\")\n",
    "setwd(\"/Users/iw/Documents/NTU/1132/1132_German_Legal\")\n",
    "\n",
    "# 📁 設定章節來源目錄（從當前資料夾開始遞迴找所有 .md / .Rmd）\n",
    "library(stringr)\n",
    "\n",
    "# --- STEP 1: 修復中間誤用的 ---\n",
    "replace_unsafe_hr <- function(file) {\n",
    "  lines <- readLines(file, warn = FALSE)\n",
    "  yaml_start <- which(lines == \"---\")[1]\n",
    "  yaml_end   <- which(lines == \"---\")[2]\n",
    "  \n",
    "  # 沒有 YAML 區塊，直接處理整篇\n",
    "  if (is.na(yaml_start) || is.na(yaml_end)) {\n",
    "    lines_fixed <- gsub(\"^---$\", \"***\", lines)\n",
    "  } else {\n",
    "    # 修正 YAML 區塊外的 --- 為 ***\n",
    "    lines_fixed <- c(\n",
    "      lines[1:yaml_end],\n",
    "      gsub(\"^---$\", \"***\", lines[(yaml_end + 1):length(lines)])\n",
    "    )\n",
    "  }\n",
    "  \n",
    "  writeLines(lines_fixed, file)\n",
    "  message(\"✅ 已修正 `---` 為 `***` ：\", file)\n",
    "}\n"
   ]
  },
  {
   "cell_type": "code",
   "execution_count": 3,
   "metadata": {
    "vscode": {
     "languageId": "r"
    }
   },
   "outputs": [
    {
     "name": "stderr",
     "output_type": "stream",
     "text": [
      "<U+2705> <U+5DF2><U+4FEE><U+6B63> `---` <U+70BA> `***` <U+FF1A>./課堂筆記/00_Weekly/W01_0218.md\n",
      "\n",
      "<U+2705> <U+5DF2><U+4FEE><U+6B63> `---` <U+70BA> `***` <U+FF1A>./課堂筆記/00_Weekly/W05_0318.md\n",
      "\n",
      "<U+2705> <U+5DF2><U+4FEE><U+6B63> `---` <U+70BA> `***` <U+FF1A>./課堂筆記/00_Weekly/W06_0325.md\n",
      "\n",
      "<U+2705> <U+5DF2><U+4FEE><U+6B63> `---` <U+70BA> `***` <U+FF1A>./課堂筆記/01_Staatsrecht選讀/Rn_338.md\n",
      "\n",
      "<U+2705> <U+5DF2><U+4FEE><U+6B63> `---` <U+70BA> `***` <U+FF1A>./課堂筆記/01_Staatsrecht選讀/Rn_339.md\n",
      "\n",
      "<U+2705> <U+5DF2><U+4FEE><U+6B63> `---` <U+70BA> `***` <U+FF1A>./課堂筆記/01_Staatsrecht選讀/Rn_340.md\n",
      "\n",
      "<U+2705> <U+5DF2><U+4FEE><U+6B63> `---` <U+70BA> `***` <U+FF1A>./課堂筆記/01_Staatsrecht選讀/Rn_341.md\n",
      "\n",
      "<U+2705> <U+5DF2><U+4FEE><U+6B63> `---` <U+70BA> `***` <U+FF1A>./課堂筆記/01_Staatsrecht選讀/Rn_342.md\n",
      "\n",
      "<U+2705> <U+5DF2><U+4FEE><U+6B63> `---` <U+70BA> `***` <U+FF1A>./課堂筆記/01_Staatsrecht選讀/Rn_343.md\n",
      "\n",
      "<U+2705> <U+5DF2><U+4FEE><U+6B63> `---` <U+70BA> `***` <U+FF1A>./課堂筆記/01_Staatsrecht選讀/Rn_344.md\n",
      "\n",
      "<U+2705> <U+5DF2><U+4FEE><U+6B63> `---` <U+70BA> `***` <U+FF1A>./課堂筆記/01_Staatsrecht選讀/Rn_345.md\n",
      "\n",
      "<U+2705> <U+5DF2><U+4FEE><U+6B63> `---` <U+70BA> `***` <U+FF1A>./課堂筆記/01_Staatsrecht選讀/Rn_346.md\n",
      "\n",
      "<U+2705> <U+5DF2><U+4FEE><U+6B63> `---` <U+70BA> `***` <U+FF1A>./課堂筆記/01_Staatsrecht選讀/Rn_347.md\n",
      "\n",
      "<U+2705> <U+5DF2><U+4FEE><U+6B63> `---` <U+70BA> `***` <U+FF1A>./課堂筆記/01_Staatsrecht選讀/Rn_348.md\n",
      "\n",
      "<U+2705> <U+5DF2><U+4FEE><U+6B63> `---` <U+70BA> `***` <U+FF1A>./課堂筆記/01_Staatsrecht選讀/Rn_349.md\n",
      "\n",
      "<U+2705> <U+5DF2><U+4FEE><U+6B63> `---` <U+70BA> `***` <U+FF1A>./課堂筆記/01_Staatsrecht選讀/Rn_350.md\n",
      "\n",
      "<U+2705> <U+5DF2><U+4FEE><U+6B63> `---` <U+70BA> `***` <U+FF1A>./課堂筆記/02_GG/GG.md\n",
      "\n",
      "<U+2705> <U+5DF2><U+4FEE><U+6B63> `---` <U+70BA> `***` <U+FF1A>./課堂筆記/03_附錄/01_條項款.md\n",
      "\n",
      "<U+2705> <U+5DF2><U+4FEE><U+6B63> `---` <U+70BA> `***` <U+FF1A>./課堂筆記/03_附錄/憲法和基本法.md\n",
      "\n",
      "<U+2705> <U+5DF2><U+4FEE><U+6B63> `---` <U+70BA> `***` <U+FF1A>./課堂筆記/03_附錄/文獻中引註格式.md\n",
      "\n"
     ]
    }
   ],
   "source": [
    "\n",
    "# --- STEP 2: 掃描並修正所有 .md 檔案 ---\n",
    "all_md <- list.files(\".\", pattern = \"\\\\.md$\", recursive = TRUE, full.names = TRUE)\n",
    "invisible(lapply(all_md, replace_unsafe_hr))\n",
    "\n"
   ]
  },
  {
   "cell_type": "code",
   "execution_count": 4,
   "metadata": {
    "vscode": {
     "languageId": "r"
    }
   },
   "outputs": [
    {
     "name": "stdout",
     "output_type": "stream",
     "text": [
      "\n",
      "✅ _bookdown.yml 產生成功，共  21  個章節！\n"
     ]
    },
    {
     "name": "stderr",
     "output_type": "stream",
     "text": [
      "\n",
      "\n",
      "processing file: 1132-Readings-of-German-Jurisprudence.Rmd\n",
      "\n"
     ]
    },
    {
     "name": "stdout",
     "output_type": "stream",
     "text": [
      "1/1\n"
     ]
    },
    {
     "name": "stderr",
     "output_type": "stream",
     "text": [
      "output file: 1132-Readings-of-German-Jurisprudence.knit.md\n",
      "\n",
      "\n"
     ]
    },
    {
     "name": "stdout",
     "output_type": "stream",
     "text": [
      "/usr/local/bin/pandoc +RTS -K512m -RTS 1132-Readings-of-German-Jurisprudence.knit.md --to html4 --from markdown+autolink_bare_uris+tex_math_single_backslash --output 1132-Readings-of-German-Jurisprudence.html --lua-filter /Library/Frameworks/R.framework/Versions/4.4-arm64/Resources/library/bookdown/rmarkdown/lua/custom-environment.lua --lua-filter /Library/Frameworks/R.framework/Versions/4.4-arm64/Resources/library/rmarkdown/rmarkdown/lua/pagebreak.lua --lua-filter /Library/Frameworks/R.framework/Versions/4.4-arm64/Resources/library/rmarkdown/rmarkdown/lua/latex-div.lua --lua-filter /Library/Frameworks/R.framework/Versions/4.4-arm64/Resources/library/rmarkdown/rmarkdown/lua/table-classes.lua --lua-filter /Library/Frameworks/R.framework/Versions/4.4-arm64/Resources/library/rmarkdown/rmarkdown/lua/anchor-sections.lua --metadata-file /var/folders/kx/yl3w6mcd1g7767kzzplxnd380000gn/T//RtmpEuTnqy/file141cd1e7ab0de --wrap preserve --standalone --section-divs --table-of-contents --toc-depth 3 --template /Library/Frameworks/R.framework/Versions/4.4-arm64/Resources/library/bookdown/templates/gitbook.html --highlight-style pygments --number-sections --css style.css --mathjax --include-in-header /var/folders/kx/yl3w6mcd1g7767kzzplxnd380000gn/T//RtmpEuTnqy/rmarkdown-str141cd3b292642.html --include-after-body custom_def.html \n"
     ]
    },
    {
     "name": "stderr",
     "output_type": "stream",
     "text": [
      "\n",
      "Output created: docs/index.html\n",
      "\n"
     ]
    },
    {
     "data": {
      "text/html": [
       "'/Users/iw/Documents/NTU/1132/1132_German_Legal/docs/index.html'"
      ],
      "text/latex": [
       "'/Users/iw/Documents/NTU/1132/1132\\_German\\_Legal/docs/index.html'"
      ],
      "text/markdown": [
       "'/Users/iw/Documents/NTU/1132/1132_German_Legal/docs/index.html'"
      ],
      "text/plain": [
       "[1] \"/Users/iw/Documents/NTU/1132/1132_German_Legal/docs/index.html\""
      ]
     },
     "metadata": {},
     "output_type": "display_data"
    }
   ],
   "source": [
    "\n",
    "\n",
    "# --- STEP 3: 建立 _bookdown.yml ---\n",
    "all_files <- list.files(\".\", pattern = \"\\\\.R?md$\", recursive = TRUE, full.names = TRUE)\n",
    "# 排除 _bookdown.yml 本身、README、開頭是 \"_\" 的檔案\n",
    "valid_files <- all_files[!grepl(\"^_\", basename(all_files))]\n",
    "valid_files <- valid_files[!basename(valid_files) %in% c(\"README.md\", \"README.Rmd\")]\n",
    "valid_files <- sort(valid_files)\n",
    "# 將 index.Rmd 放最前面\n",
    "valid_files <- c(\"index.Rmd\", setdiff(valid_files, \"index.Rmd\"))\n",
    "\n",
    "# YAML 內容\n",
    "yaml_lines <- c(\n",
    "  'book_filename: \"1132-Readings-of-German-Jurisprudence.Rmd\"',\n",
    "  'clean: [packages.bib, bookdown.bbl]',\n",
    "  'delete_merged_file: true',\n",
    "  'language:',\n",
    "  '  label:',\n",
    "  '    fig: \"圖 \"',\n",
    "  '    tab: \"表 \"',\n",
    "  '  ui:',\n",
    "  '    edit: \"編輯\"',\n",
    "  '    chapter_name: [\"第 \", \" 章\"]',\n",
    "  'output_dir: \"docs\"',\n",
    "  'rmd_subdir: true',\n",
    "  'rmd_files:',\n",
    "  paste0(\"  - \", valid_files)\n",
    ")\n",
    "\n",
    "writeLines(yaml_lines, \"_bookdown.yml\")\n",
    "cat(\"\\n✅ _bookdown.yml 產生成功，共 \", length(valid_files), \" 個章節！\\n\")\n",
    "\n",
    "# --- STEP 4: 選擇性立即渲染書籍 ---\n",
    "bookdown::render_book(\"index.Rmd\", \"bookdown::gitbook\")"
   ]
  },
  {
   "cell_type": "code",
   "execution_count": 5,
   "metadata": {
    "vscode": {
     "languageId": "r"
    }
   },
   "outputs": [],
   "source": [
    "# files <- list.files(\".\", pattern = \"\\\\.R?md$\", recursive = TRUE, full.names = TRUE)\n",
    "# for (f in files) {\n",
    "#   lines <- readLines(f, warn = FALSE)\n",
    "#   if (!any(grepl(\"^# \", lines))) {\n",
    "#     message(\"⚠️ 檔案缺少章節標題（# 開頭）➡ \", f)\n",
    "#   }\n",
    "# }"
   ]
  },
  {
   "cell_type": "code",
   "execution_count": 6,
   "metadata": {
    "vscode": {
     "languageId": "r"
    }
   },
   "outputs": [],
   "source": [
    "# # === add_anchor_to_headers.R ===\n",
    "# library(stringi)\n",
    "\n",
    "# # 轉換中文標題 ➜ 合法 GitBook ID slug\n",
    "# slugify <- function(text) {\n",
    "#   text <- stringi::stri_trans_general(text, \"Latin-ASCII\") # 轉換變成類拼音/英文\n",
    "#   text <- tolower(text)\n",
    "#   text <- gsub(\"[^a-z0-9]+\", \"-\", text)       # 非字母數字轉成 -\n",
    "#   text <- gsub(\"(^-|-$)\", \"\", text)           # 去頭尾的 -\n",
    "#   return(text)\n",
    "# }\n",
    "\n",
    "# # 為章節標題補上 {#slug}\n",
    "# add_anchors <- function(file) {\n",
    "#   lines <- readLines(file, warn = FALSE)\n",
    "#   modified <- FALSE\n",
    "  \n",
    "#   lines <- lapply(lines, function(line) {\n",
    "#     if (grepl(\"^# \", line) && !grepl(\"\\\\{#.*\\\\}\", line)) {\n",
    "#       title <- gsub(\"^# +\", \"\", line)\n",
    "#       title_clean <- gsub(\"\\\\*+\", \"\", title)                  # 去除粗體符號\n",
    "#       title_clean <- gsub(\"[（(].*?[）)]\", \"\", title_clean)   # 去除括號中的說明\n",
    "#       slug <- slugify(title_clean)\n",
    "#       line <- paste0(line, \" {#\", slug, \"}\")\n",
    "#       modified <<- TRUE\n",
    "#     }\n",
    "#     return(line)\n",
    "#   })\n",
    "  \n",
    "#   if (modified) {\n",
    "#     writeLines(unlist(lines), file)\n",
    "#     message(\"✅ 已補 anchor：\", file)\n",
    "#   } else {\n",
    "#     message(\"☑️ 已有 anchor 或無標題：\", file)\n",
    "#   }\n",
    "# }\n",
    "\n",
    "# # 處理所有 .md / .Rmd\n",
    "# files <- list.files(\".\", pattern = \"\\\\.R?md$\", recursive = TRUE, full.names = TRUE)\n",
    "# lapply(files, add_anchors)"
   ]
  }
 ],
 "metadata": {
  "kernelspec": {
   "display_name": "R",
   "language": "R",
   "name": "ir"
  },
  "language_info": {
   "codemirror_mode": "r",
   "file_extension": ".r",
   "mimetype": "text/x-r-source",
   "name": "R",
   "pygments_lexer": "r",
   "version": "4.4.3"
  }
 },
 "nbformat": 4,
 "nbformat_minor": 2
}
