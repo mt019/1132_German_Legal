{
 "cells": [
  {
   "cell_type": "code",
   "execution_count": 3,
   "metadata": {
    "vscode": {
     "languageId": "r"
    }
   },
   "outputs": [],
   "source": [
    "# === setup_bookdown.R ===\n",
    "\n",
    "# 📁 設定章節來源目錄（從當前資料夾開始遞迴找所有 .md / .Rmd）\n",
    "library(stringr)\n",
    "\n",
    "# --- STEP 1: 修復中間誤用的 ---\n",
    "replace_unsafe_hr <- function(file) {\n",
    "  lines <- readLines(file, warn = FALSE)\n",
    "  yaml_start <- which(lines == \"---\")[1]\n",
    "  yaml_end   <- which(lines == \"---\")[2]\n",
    "  \n",
    "  # 沒有 YAML 區塊，直接處理整篇\n",
    "  if (is.na(yaml_start) || is.na(yaml_end)) {\n",
    "    lines_fixed <- gsub(\"^---$\", \"***\", lines)\n",
    "  } else {\n",
    "    # 修正 YAML 區塊外的 --- 為 ***\n",
    "    lines_fixed <- c(\n",
    "      lines[1:yaml_end],\n",
    "      gsub(\"^---$\", \"***\", lines[(yaml_end + 1):length(lines)])\n",
    "    )\n",
    "  }\n",
    "  \n",
    "  writeLines(lines_fixed, file)\n",
    "  message(\"✅ 已修正 `---` 為 `***` ：\", file)\n",
    "}\n"
   ]
  },
  {
   "cell_type": "code",
   "execution_count": 4,
   "metadata": {
    "vscode": {
     "languageId": "r"
    }
   },
   "outputs": [
    {
     "name": "stderr",
     "output_type": "stream",
     "text": [
      "<U+2705> <U+5DF2><U+4FEE><U+6B63> `---` <U+70BA> `***` <U+FF1A>./<e8><aa><b2><e5><a0><82><e7><ad><86><e8><a8><98>/GG/GG.md\n",
      "\n",
      "<U+2705> <U+5DF2><U+4FEE><U+6B63> `---` <U+70BA> `***` <U+FF1A>./<e8><aa><b2><e5><a0><82><e7><ad><86><e8><a8><98>/Rn_338.md\n",
      "\n",
      "<U+2705> <U+5DF2><U+4FEE><U+6B63> `---` <U+70BA> `***` <U+FF1A>./<e8><aa><b2><e5><a0><82><e7><ad><86><e8><a8><98>/Rn_339.md\n",
      "\n",
      "<U+2705> <U+5DF2><U+4FEE><U+6B63> `---` <U+70BA> `***` <U+FF1A>./<e8><aa><b2><e5><a0><82><e7><ad><86><e8><a8><98>/Rn_340.md\n",
      "\n",
      "<U+2705> <U+5DF2><U+4FEE><U+6B63> `---` <U+70BA> `***` <U+FF1A>./<e8><aa><b2><e5><a0><82><e7><ad><86><e8><a8><98>/Rn_341.md\n",
      "\n",
      "<U+2705> <U+5DF2><U+4FEE><U+6B63> `---` <U+70BA> `***` <U+FF1A>./<e8><aa><b2><e5><a0><82><e7><ad><86><e8><a8><98>/Rn_342.md\n",
      "\n",
      "<U+2705> <U+5DF2><U+4FEE><U+6B63> `---` <U+70BA> `***` <U+FF1A>./<e8><aa><b2><e5><a0><82><e7><ad><86><e8><a8><98>/Rn_343.md\n",
      "\n",
      "<U+2705> <U+5DF2><U+4FEE><U+6B63> `---` <U+70BA> `***` <U+FF1A>./<e8><aa><b2><e5><a0><82><e7><ad><86><e8><a8><98>/Rn_344.md\n",
      "\n",
      "<U+2705> <U+5DF2><U+4FEE><U+6B63> `---` <U+70BA> `***` <U+FF1A>./<e8><aa><b2><e5><a0><82><e7><ad><86><e8><a8><98>/Rn_345.md\n",
      "\n",
      "<U+2705> <U+5DF2><U+4FEE><U+6B63> `---` <U+70BA> `***` <U+FF1A>./<e8><aa><b2><e5><a0><82><e7><ad><86><e8><a8><98>/Rn_346.md\n",
      "\n",
      "<U+2705> <U+5DF2><U+4FEE><U+6B63> `---` <U+70BA> `***` <U+FF1A>./<e8><aa><b2><e5><a0><82><e7><ad><86><e8><a8><98>/Rn_347.md\n",
      "\n",
      "<U+2705> <U+5DF2><U+4FEE><U+6B63> `---` <U+70BA> `***` <U+FF1A>./<e8><aa><b2><e5><a0><82><e7><ad><86><e8><a8><98>/Rn_348.md\n",
      "\n",
      "<U+2705> <U+5DF2><U+4FEE><U+6B63> `---` <U+70BA> `***` <U+FF1A>./<e8><aa><b2><e5><a0><82><e7><ad><86><e8><a8><98>/Rn_349.md\n",
      "\n",
      "<U+2705> <U+5DF2><U+4FEE><U+6B63> `---` <U+70BA> `***` <U+FF1A>./<e8><aa><b2><e5><a0><82><e7><ad><86><e8><a8><98>/Rn_350.md\n",
      "\n",
      "<U+2705> <U+5DF2><U+4FEE><U+6B63> `---` <U+70BA> `***` <U+FF1A>./<e8><aa><b2><e5><a0><82><e7><ad><86><e8><a8><98>/W01_0218.md\n",
      "\n",
      "<U+2705> <U+5DF2><U+4FEE><U+6B63> `---` <U+70BA> `***` <U+FF1A>./<e8><aa><b2><e5><a0><82><e7><ad><86><e8><a8><98>/W05_0318.md\n",
      "\n",
      "<U+2705> <U+5DF2><U+4FEE><U+6B63> `---` <U+70BA> `***` <U+FF1A>./<e8><aa><b2><e5><a0><82><e7><ad><86><e8><a8><98>/<e5><b0><8f><e7><9f><a5><e8><ad><98>/<e6><a2><9d><e9><a0><85><e6><ac><be>.md\n",
      "\n"
     ]
    }
   ],
   "source": [
    "\n",
    "# --- STEP 2: 掃描並修正所有 .md 檔案 ---\n",
    "all_md <- list.files(\".\", pattern = \"\\\\.md$\", recursive = TRUE, full.names = TRUE)\n",
    "invisible(lapply(all_md, replace_unsafe_hr))\n",
    "\n"
   ]
  },
  {
   "cell_type": "code",
   "execution_count": 5,
   "metadata": {
    "vscode": {
     "languageId": "r"
    }
   },
   "outputs": [
    {
     "name": "stdout",
     "output_type": "stream",
     "text": [
      "\n",
      "<U+2705> _bookdown.yml <U+7522><U+751F><U+6210><U+529F><U+FF0C><U+5171>  18  <U+500B><U+7AE0><U+7BC0><U+FF01>\n"
     ]
    }
   ],
   "source": [
    "\n",
    "\n",
    "# --- STEP 3: 建立 _bookdown.yml ---\n",
    "all_files <- list.files(\".\", pattern = \"\\\\.R?md$\", recursive = TRUE, full.names = TRUE)\n",
    "# 排除 _bookdown.yml 本身、README、開頭是 \"_\" 的檔案\n",
    "valid_files <- all_files[!grepl(\"^_\", basename(all_files))]\n",
    "valid_files <- valid_files[!basename(valid_files) %in% c(\"README.md\", \"README.Rmd\")]\n",
    "valid_files <- sort(valid_files)\n",
    "# 將 index.Rmd 放最前面\n",
    "valid_files <- c(\"index.Rmd\", setdiff(valid_files, \"index.Rmd\"))\n",
    "\n",
    "# YAML 內容\n",
    "yaml_lines <- c(\n",
    "  'book_filename: \"1132-Readings-of-German-Jurisprudence.Rmd\"',\n",
    "  'clean: [packages.bib, bookdown.bbl]',\n",
    "  'delete_merged_file: true',\n",
    "  'language:',\n",
    "  '  label:',\n",
    "  '    fig: \"圖 \"',\n",
    "  '    tab: \"表 \"',\n",
    "  '  ui:',\n",
    "  '    edit: \"編輯\"',\n",
    "  '    chapter_name: [\"第 \", \" 章\"]',\n",
    "  'output_dir: \"docs\"',\n",
    "  'rmd_subdir: true',\n",
    "  'rmd_files:',\n",
    "  paste0(\"  - \", valid_files)\n",
    ")\n",
    "\n",
    "writeLines(yaml_lines, \"_bookdown.yml\")\n",
    "cat(\"\\n✅ _bookdown.yml 產生成功，共 \", length(valid_files), \" 個章節！\\n\")\n",
    "\n",
    "# --- STEP 4: 選擇性立即渲染書籍 ---\n",
    "# bookdown::render_book(\"index.Rmd\", \"bookdown::gitbook\")"
   ]
  }
 ],
 "metadata": {
  "kernelspec": {
   "display_name": "R",
   "language": "R",
   "name": "ir"
  },
  "language_info": {
   "codemirror_mode": "r",
   "file_extension": ".r",
   "mimetype": "text/x-r-source",
   "name": "R",
   "pygments_lexer": "r",
   "version": "4.4.3"
  }
 },
 "nbformat": 4,
 "nbformat_minor": 2
}
