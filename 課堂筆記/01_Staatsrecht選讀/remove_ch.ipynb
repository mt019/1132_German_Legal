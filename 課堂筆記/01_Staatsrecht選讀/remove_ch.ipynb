{
 "cells": [
  {
   "cell_type": "code",
   "execution_count": 5,
   "metadata": {
    "vscode": {
     "languageId": "r"
    }
   },
   "outputs": [
    {
     "name": "stderr",
     "output_type": "stream",
     "text": [
      "Warning message in gsub(\"[^A-Za-z0-9 .:()*/_\\\\[\\\\]{}~!@#\\\\$%\\\\^&+=\\\\\\\\|<>\\\"'`-]\", :\n",
      "\"TRE Fehler 'Invalid contents of {}' bei der Muster Kompilation\"\n"
     ]
    },
    {
     "ename": "ERROR",
     "evalue": "Error in gsub(\"[^A-Za-z0-9 .:()*/_\\\\[\\\\]{}~!@#\\\\$%\\\\^&+=\\\\\\\\|<>\\\"'`-]\", : ung\"ultiger regul\"arer Ausdruck '[^A-Za-z0-9 .:()*/_\\[\\]{}~!@#\\$%\\^&+=\\\\|<>\"'`-]', Grund 'Invalid contents of {}'\n",
     "output_type": "error",
     "traceback": [
      "Error in gsub(\"[^A-Za-z0-9 .:()*/_\\\\[\\\\]{}~!@#\\\\$%\\\\^&+=\\\\\\\\|<>\\\"'`-]\", : ung\"ultiger regul\"arer Ausdruck '[^A-Za-z0-9 .:()*/_\\[\\]{}~!@#\\$%\\^&+=\\\\|<>\"'`-]', Grund 'Invalid contents of {}'\nTraceback:\n",
      "1. FUN(X[[i]], ...)",
      "2. lapply(lines, function(line) {\n .     if (grepl(\"^##\\\\s\", line)) {\n .         cleaned <- gsub(\"[^A-Za-z0-9 .:()*/_\\\\[\\\\]{}~!@#\\\\$%\\\\^&+=\\\\\\\\|<>\\\"'`-]\", \n .             \"\", line)\n .         if (cleaned != line) {\n .             modified <<- TRUE\n .             return(cleaned)\n .         }\n .     }\n .     return(line)\n . })",
      "3. FUN(X[[i]], ...)",
      "4. gsub(\"[^A-Za-z0-9 .:()*/_\\\\[\\\\]{}~!@#\\\\$%\\\\^&+=\\\\\\\\|<>\\\"'`-]\", \n .     \"\", line)",
      "5. .handleSimpleError(function (cnd) \n . {\n .     watcher$capture_plot_and_output()\n .     cnd <- sanitize_call(cnd)\n .     watcher$push(cnd)\n .     switch(on_error, continue = invokeRestart(\"eval_continue\"), \n .         stop = invokeRestart(\"eval_stop\"), error = NULL)\n . }, \"ung\\\"ultiger regul\\\"arer Ausdruck '[^A-Za-z0-9 .:()*/_\\\\[\\\\]{}~!@#\\\\$%\\\\^&+=\\\\\\\\|<>\\\"'`-]', Grund 'Invalid contents of {}'\", \n .     base::quote(gsub(\"[^A-Za-z0-9 .:()*/_\\\\[\\\\]{}~!@#\\\\$%\\\\^&+=\\\\\\\\|<>\\\"'`-]\", \n .         \"\", line)))"
     ]
    }
   ],
   "source": [
    "remove_non_ascii_in_h2 <- function(file) {\n",
    "  if (!grepl(\"\\\\.md$\", file)) return()\n",
    "\n",
    "  lines <- readLines(file, warn = FALSE, encoding = \"UTF-8\")\n",
    "  modified <- FALSE\n",
    "\n",
    "  new_lines <- lapply(lines, function(line) {\n",
    "    if (grepl(\"^##\\\\s\", line)) {\n",
    "      cleaned <- gsub(\"[^A-Za-z0-9 .:()*/_\\\\[\\\\]{}~!@#\\\\$%\\\\^&+=\\\\\\\\|<>\\\"'`-]\", \"\", line)\n",
    "      if (cleaned != line) {\n",
    "        modified <<- TRUE\n",
    "        return(cleaned)\n",
    "      }\n",
    "    }\n",
    "    return(line)\n",
    "  })\n",
    "\n",
    "  if (modified) {\n",
    "    writeLines(unlist(new_lines), file, useBytes = TRUE)\n",
    "    message(\"✅ 中文已清除（## 標題）：\", file)\n",
    "  } else {\n",
    "    message(\"☑️ 無需修改：\", file)\n",
    "  }\n",
    "}\n",
    "\n",
    "files <- list.files(path = \".\", pattern = \"\\\\.md$\", recursive = TRUE, full.names = TRUE)\n",
    "invisible(lapply(files, remove_non_ascii_in_h2))"
   ]
  }
 ],
 "metadata": {
  "kernelspec": {
   "display_name": "R",
   "language": "R",
   "name": "ir"
  },
  "language_info": {
   "codemirror_mode": "r",
   "file_extension": ".r",
   "mimetype": "text/x-r-source",
   "name": "R",
   "pygments_lexer": "r",
   "version": "4.4.3"
  }
 },
 "nbformat": 4,
 "nbformat_minor": 2
}
